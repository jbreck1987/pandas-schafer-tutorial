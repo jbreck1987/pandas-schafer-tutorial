{
 "cells": [
  {
   "cell_type": "code",
   "execution_count": 2,
   "metadata": {},
   "outputs": [],
   "source": [
    "import pandas as pd\n",
    "import re"
   ]
  },
  {
   "cell_type": "code",
   "execution_count": 3,
   "metadata": {
    "scrolled": true
   },
   "outputs": [],
   "source": [
    "df = pd.read_excel('data/grad_school_data.xlsx')"
   ]
  },
  {
   "cell_type": "code",
   "execution_count": 4,
   "metadata": {},
   "outputs": [],
   "source": [
    "pd.set_option('display.max_column', 85)\n",
    "pd.set_option('display.max_row', 85)"
   ]
  },
  {
   "cell_type": "code",
   "execution_count": 5,
   "metadata": {},
   "outputs": [
    {
     "name": "stdout",
     "output_type": "stream",
     "text": [
      "<class 'pandas.core.frame.DataFrame'>\n",
      "RangeIndex: 87 entries, 0 to 86\n",
      "Data columns (total 18 columns):\n",
      " #   Column                       Non-Null Count  Dtype  \n",
      "---  ------                       --------------  -----  \n",
      " 0   School                       87 non-null     object \n",
      " 1   Department                   87 non-null     object \n",
      " 2   Admission Deadline           87 non-null     object \n",
      " 3   Application Fee              87 non-null     object \n",
      " 4   Students Applied fall 2019   85 non-null     float64\n",
      " 5   Students Admitted Fall 2019  86 non-null     float64\n",
      " 6   Students Enrolled Fall 2019  85 non-null     float64\n",
      " 7   Percent Acceptance           85 non-null     float64\n",
      " 8   Minimum Undergrad GPA        63 non-null     float64\n",
      " 9   General GRE Required?        87 non-null     object \n",
      " 10  Physics GRE Required?        87 non-null     object \n",
      " 11  Teaching Assistant Stipend   86 non-null     object \n",
      " 12  Research Assistant Stipend   80 non-null     object \n",
      " 13  Astronomy Faculty            24 non-null     object \n",
      " 14  Astrophysics Faculty         64 non-null     object \n",
      " 15  Cosmology Faculty            13 non-null     object \n",
      " 16  High Energy Faculty          19 non-null     float64\n",
      " 17  Notes                        12 non-null     object \n",
      "dtypes: float64(6), object(12)\n",
      "memory usage: 12.4+ KB\n"
     ]
    }
   ],
   "source": [
    "df.info()"
   ]
  },
  {
   "cell_type": "code",
   "execution_count": 6,
   "metadata": {},
   "outputs": [
    {
     "data": {
      "text/plain": [
       "Index(['School', 'Department', 'Admission Deadline', 'Application Fee',\n",
       "       'Students Applied fall 2019', 'Students Admitted Fall 2019',\n",
       "       'Students Enrolled Fall 2019', 'Percent Acceptance',\n",
       "       'Minimum Undergrad GPA', 'General GRE Required?',\n",
       "       'Physics GRE Required?', 'Teaching Assistant Stipend',\n",
       "       'Research Assistant Stipend ', 'Astronomy Faculty',\n",
       "       'Astrophysics Faculty', 'Cosmology Faculty', 'High Energy Faculty',\n",
       "       'Notes'],\n",
       "      dtype='object')"
      ]
     },
     "execution_count": 6,
     "metadata": {},
     "output_type": "execute_result"
    }
   ],
   "source": [
    "df.columns"
   ]
  },
  {
   "cell_type": "code",
   "execution_count": 7,
   "metadata": {},
   "outputs": [],
   "source": [
    "df.columns = df.columns.str.replace(' ', '_')"
   ]
  },
  {
   "cell_type": "code",
   "execution_count": 8,
   "metadata": {},
   "outputs": [
    {
     "data": {
      "text/plain": [
       "Index(['School', 'Department', 'Admission_Deadline', 'Application_Fee',\n",
       "       'Students_Applied_fall_2019', 'Students_Admitted_Fall_2019',\n",
       "       'Students_Enrolled_Fall_2019', 'Percent_Acceptance',\n",
       "       'Minimum_Undergrad_GPA', 'General_GRE_Required?',\n",
       "       'Physics_GRE_Required?', 'Teaching_Assistant_Stipend',\n",
       "       'Research_Assistant_Stipend_', 'Astronomy_Faculty',\n",
       "       'Astrophysics_Faculty', 'Cosmology_Faculty', 'High_Energy_Faculty',\n",
       "       'Notes'],\n",
       "      dtype='object')"
      ]
     },
     "execution_count": 8,
     "metadata": {},
     "output_type": "execute_result"
    }
   ],
   "source": [
    "df.columns"
   ]
  },
  {
   "cell_type": "code",
   "execution_count": 9,
   "metadata": {},
   "outputs": [],
   "source": [
    "df.columns = df.columns.str.lower()"
   ]
  },
  {
   "cell_type": "code",
   "execution_count": 10,
   "metadata": {},
   "outputs": [
    {
     "data": {
      "text/plain": [
       "Index(['school', 'department', 'admission_deadline', 'application_fee',\n",
       "       'students_applied_fall_2019', 'students_admitted_fall_2019',\n",
       "       'students_enrolled_fall_2019', 'percent_acceptance',\n",
       "       'minimum_undergrad_gpa', 'general_gre_required?',\n",
       "       'physics_gre_required?', 'teaching_assistant_stipend',\n",
       "       'research_assistant_stipend_', 'astronomy_faculty',\n",
       "       'astrophysics_faculty', 'cosmology_faculty', 'high_energy_faculty',\n",
       "       'notes'],\n",
       "      dtype='object')"
      ]
     },
     "execution_count": 10,
     "metadata": {},
     "output_type": "execute_result"
    }
   ],
   "source": [
    "df.columns"
   ]
  },
  {
   "cell_type": "code",
   "execution_count": 11,
   "metadata": {},
   "outputs": [],
   "source": [
    "df.columns = df.columns.str.replace('?', '')"
   ]
  },
  {
   "cell_type": "code",
   "execution_count": 12,
   "metadata": {},
   "outputs": [
    {
     "data": {
      "text/plain": [
       "Index(['school', 'department', 'admission_deadline', 'application_fee',\n",
       "       'students_applied_fall_2019', 'students_admitted_fall_2019',\n",
       "       'students_enrolled_fall_2019', 'percent_acceptance',\n",
       "       'minimum_undergrad_gpa', 'general_gre_required', 'physics_gre_required',\n",
       "       'teaching_assistant_stipend', 'research_assistant_stipend_',\n",
       "       'astronomy_faculty', 'astrophysics_faculty', 'cosmology_faculty',\n",
       "       'high_energy_faculty', 'notes'],\n",
       "      dtype='object')"
      ]
     },
     "execution_count": 12,
     "metadata": {},
     "output_type": "execute_result"
    }
   ],
   "source": [
    "df.columns"
   ]
  },
  {
   "cell_type": "code",
   "execution_count": 17,
   "metadata": {},
   "outputs": [
    {
     "data": {
      "text/plain": [
       "(87, 18)"
      ]
     },
     "execution_count": 17,
     "metadata": {},
     "output_type": "execute_result"
    }
   ],
   "source": [
    "df.shape"
   ]
  },
  {
   "cell_type": "code",
   "execution_count": null,
   "metadata": {},
   "outputs": [],
   "source": []
  }
 ],
 "metadata": {
  "kernelspec": {
   "display_name": "Python 3",
   "language": "python",
   "name": "python3"
  },
  "language_info": {
   "codemirror_mode": {
    "name": "ipython",
    "version": 3
   },
   "file_extension": ".py",
   "mimetype": "text/x-python",
   "name": "python",
   "nbconvert_exporter": "python",
   "pygments_lexer": "ipython3",
   "version": "3.6.9"
  }
 },
 "nbformat": 4,
 "nbformat_minor": 4
}
